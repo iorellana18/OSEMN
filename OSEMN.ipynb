{
 "cells": [
  {
   "cell_type": "markdown",
   "metadata": {},
   "source": [
    "# Python OSEMN process\n",
    "---\n",
    "\n",
    "---"
   ]
  },
  {
   "cell_type": "markdown",
   "metadata": {},
   "source": [
    "1.- [Scrub](#scrub)\n",
    "\n",
    "&nbsp;\n",
    "    1.1.- [Pre-test](#pre)\n",
    "    \n",
    "&nbsp;\n",
    "        1.1.1.- [Crear tabla de tiempos](#timeTable)\n",
    "        \n",
    "&nbsp;\n",
    "        1.1.2.- [Obtener eventos en etapa de búsqueda y selección](#searchAndSelect)\n",
    "\n",
    "2.- [Explore](#explore)\n",
    "    \n",
    "3.- [Model](#model)\n",
    "    \n",
    "4.- [Interpret](#interpret)"
   ]
  },
  {
   "cell_type": "markdown",
   "metadata": {},
   "source": [
    "# 1.- Scrub \n",
    "<a id=\"scrub\"></a>\n",
    "\n",
    "---"
   ]
  },
  {
   "cell_type": "markdown",
   "metadata": {},
   "source": [
    "## 1.1.- Pre-test\n",
    "<a id=\"pre\"></a>"
   ]
  },
  {
   "cell_type": "code",
   "execution_count": null,
   "metadata": {},
   "outputs": [],
   "source": [
    "/Users/ianorellana/Documents/GitHub/Python/virEnv/tesis/bin/python3 -m pip install pandas"
   ]
  },
  {
   "cell_type": "markdown",
   "metadata": {},
   "source": [
    "Importar pandas y numpy para manejo de dataframe"
   ]
  },
  {
   "cell_type": "code",
   "execution_count": 20,
   "metadata": {},
   "outputs": [],
   "source": [
    "import pandas as pd\n",
    "import numpy as np"
   ]
  },
  {
   "cell_type": "markdown",
   "metadata": {},
   "source": [
    "### 1.1.1.- Crear tabla de tiempos\n",
    "<a id=\"timeTable\"></a>"
   ]
  },
  {
   "cell_type": "markdown",
   "metadata": {},
   "source": [
    "Importar tabla de links visitados en la etapa de pretest"
   ]
  },
  {
   "cell_type": "code",
   "execution_count": 22,
   "metadata": {},
   "outputs": [],
   "source": [
    "visitedLinksPre = pd.read_csv('Tablas generadas/Pre-test/VisitedLinks.PreTest.csv')"
   ]
  },
  {
   "cell_type": "markdown",
   "metadata": {},
   "source": [
    "Revisar primeros datos de la tabla"
   ]
  },
  {
   "cell_type": "code",
   "execution_count": 37,
   "metadata": {},
   "outputs": [
    {
     "data": {
      "text/html": [
       "<div>\n",
       "<style scoped>\n",
       "    .dataframe tbody tr th:only-of-type {\n",
       "        vertical-align: middle;\n",
       "    }\n",
       "\n",
       "    .dataframe tbody tr th {\n",
       "        vertical-align: top;\n",
       "    }\n",
       "\n",
       "    .dataframe thead th {\n",
       "        text-align: right;\n",
       "    }\n",
       "</style>\n",
       "<table border=\"1\" class=\"dataframe\">\n",
       "  <thead>\n",
       "    <tr style=\"text-align: right;\">\n",
       "      <th></th>\n",
       "      <th>username</th>\n",
       "      <th>userId</th>\n",
       "      <th>X_id</th>\n",
       "      <th>state</th>\n",
       "      <th>url</th>\n",
       "      <th>localTimestamp</th>\n",
       "      <th>serverTimestamp</th>\n",
       "    </tr>\n",
       "  </thead>\n",
       "  <tbody>\n",
       "    <tr>\n",
       "      <th>0</th>\n",
       "      <td>101BSCE120003</td>\n",
       "      <td>KnqPytrKdYvoWobR6</td>\n",
       "      <td>XnghJcJWpt9kawj6D</td>\n",
       "      <td>PageExit</td>\n",
       "      <td>/login</td>\n",
       "      <td>1488795765263</td>\n",
       "      <td>1488795765417</td>\n",
       "    </tr>\n",
       "    <tr>\n",
       "      <th>1</th>\n",
       "      <td>101BSCE120003</td>\n",
       "      <td>KnqPytrKdYvoWobR6</td>\n",
       "      <td>sikmeettZJj8XEhTp</td>\n",
       "      <td>PageEnter</td>\n",
       "      <td>/start</td>\n",
       "      <td>1488795765264</td>\n",
       "      <td>1488795765584</td>\n",
       "    </tr>\n",
       "    <tr>\n",
       "      <th>2</th>\n",
       "      <td>101BSCE120003</td>\n",
       "      <td>KnqPytrKdYvoWobR6</td>\n",
       "      <td>Dx664JM6NAwmhEpSx</td>\n",
       "      <td>PageExit</td>\n",
       "      <td>/start</td>\n",
       "      <td>1488795781045</td>\n",
       "      <td>1488795781689</td>\n",
       "    </tr>\n",
       "    <tr>\n",
       "      <th>3</th>\n",
       "      <td>101BSCE120003</td>\n",
       "      <td>KnqPytrKdYvoWobR6</td>\n",
       "      <td>NYhgvvR2Ky2SKwbbZ</td>\n",
       "      <td>PageEnter</td>\n",
       "      <td>/affective?stage=begin</td>\n",
       "      <td>1488795781051</td>\n",
       "      <td>1488795781699</td>\n",
       "    </tr>\n",
       "    <tr>\n",
       "      <th>4</th>\n",
       "      <td>101BSCE120003</td>\n",
       "      <td>KnqPytrKdYvoWobR6</td>\n",
       "      <td>ye6WFzgGgnfGb87Mp</td>\n",
       "      <td>PageExit</td>\n",
       "      <td>/affective?stage=begin</td>\n",
       "      <td>1488795820262</td>\n",
       "      <td>1488795820483</td>\n",
       "    </tr>\n",
       "  </tbody>\n",
       "</table>\n",
       "</div>"
      ],
      "text/plain": [
       "        username             userId               X_id      state  \\\n",
       "0  101BSCE120003  KnqPytrKdYvoWobR6  XnghJcJWpt9kawj6D   PageExit   \n",
       "1  101BSCE120003  KnqPytrKdYvoWobR6  sikmeettZJj8XEhTp  PageEnter   \n",
       "2  101BSCE120003  KnqPytrKdYvoWobR6  Dx664JM6NAwmhEpSx   PageExit   \n",
       "3  101BSCE120003  KnqPytrKdYvoWobR6  NYhgvvR2Ky2SKwbbZ  PageEnter   \n",
       "4  101BSCE120003  KnqPytrKdYvoWobR6  ye6WFzgGgnfGb87Mp   PageExit   \n",
       "\n",
       "                      url  localTimestamp  serverTimestamp  \n",
       "0                  /login   1488795765263    1488795765417  \n",
       "1                  /start   1488795765264    1488795765584  \n",
       "2                  /start   1488795781045    1488795781689  \n",
       "3  /affective?stage=begin   1488795781051    1488795781699  \n",
       "4  /affective?stage=begin   1488795820262    1488795820483  "
      ]
     },
     "execution_count": 37,
     "metadata": {},
     "output_type": "execute_result"
    }
   ],
   "source": [
    "visitedLinksPre.head()"
   ]
  },
  {
   "cell_type": "markdown",
   "metadata": {},
   "source": [
    "Comprobar cantidad de usuarios y filas"
   ]
  },
  {
   "cell_type": "code",
   "execution_count": 67,
   "metadata": {},
   "outputs": [
    {
     "name": "stdout",
     "output_type": "stream",
     "text": [
      "512  usuarios\n",
      "56750  filas\n"
     ]
    }
   ],
   "source": [
    "print(len(visitedLinksPre[\"username\"].unique()),\" usuarios\")\n",
    "print(len(visitedLinksPre), \" filas\")"
   ]
  },
  {
   "cell_type": "markdown",
   "metadata": {},
   "source": [
    "Obtener tabla con tiempos iniciales en la etapa de búsqueda y selección"
   ]
  },
  {
   "cell_type": "code",
   "execution_count": 57,
   "metadata": {},
   "outputs": [
    {
     "name": "stdout",
     "output_type": "stream",
     "text": [
      "512  usuarios\n",
      "515  filas\n"
     ]
    }
   ],
   "source": [
    "startTimePre = visitedLinksPre.loc[(visitedLinksPre[\"state\"]==\"PageExit\") & \n",
    "                               (visitedLinksPre[\"url\"]==\"/tutorial?stage=search\"),[\"username\",\"serverTimestamp\"]]\n",
    "print(len(startTimePre[\"username\"].unique()),\" usuarios\")\n",
    "print(len(startTimePre),\" filas\")"
   ]
  },
  {
   "cell_type": "markdown",
   "metadata": {},
   "source": [
    "Debido a error en el sistema de captura de datos, algunos usuaris poseen duplicados en la fase tutorial.  Se eliminan todos excepto la primera ocurrencia"
   ]
  },
  {
   "cell_type": "code",
   "execution_count": 70,
   "metadata": {},
   "outputs": [
    {
     "name": "stdout",
     "output_type": "stream",
     "text": [
      "512  usuarios\n",
      "512  filas\n"
     ]
    },
    {
     "data": {
      "text/html": [
       "<div>\n",
       "<style scoped>\n",
       "    .dataframe tbody tr th:only-of-type {\n",
       "        vertical-align: middle;\n",
       "    }\n",
       "\n",
       "    .dataframe tbody tr th {\n",
       "        vertical-align: top;\n",
       "    }\n",
       "\n",
       "    .dataframe thead th {\n",
       "        text-align: right;\n",
       "    }\n",
       "</style>\n",
       "<table border=\"1\" class=\"dataframe\">\n",
       "  <thead>\n",
       "    <tr style=\"text-align: right;\">\n",
       "      <th></th>\n",
       "      <th>username</th>\n",
       "      <th>start</th>\n",
       "    </tr>\n",
       "  </thead>\n",
       "  <tbody>\n",
       "    <tr>\n",
       "      <th>16</th>\n",
       "      <td>101BSCE120003</td>\n",
       "      <td>1488795953781</td>\n",
       "    </tr>\n",
       "    <tr>\n",
       "      <th>82</th>\n",
       "      <td>101BSCE120004</td>\n",
       "      <td>1488795974227</td>\n",
       "    </tr>\n",
       "    <tr>\n",
       "      <th>201</th>\n",
       "      <td>101BSCE120008</td>\n",
       "      <td>1488795937180</td>\n",
       "    </tr>\n",
       "    <tr>\n",
       "      <th>278</th>\n",
       "      <td>101BSCE120012</td>\n",
       "      <td>1488796022746</td>\n",
       "    </tr>\n",
       "    <tr>\n",
       "      <th>368</th>\n",
       "      <td>101BSCE120014</td>\n",
       "      <td>1488796497576</td>\n",
       "    </tr>\n",
       "  </tbody>\n",
       "</table>\n",
       "</div>"
      ],
      "text/plain": [
       "          username          start\n",
       "16   101BSCE120003  1488795953781\n",
       "82   101BSCE120004  1488795974227\n",
       "201  101BSCE120008  1488795937180\n",
       "278  101BSCE120012  1488796022746\n",
       "368  101BSCE120014  1488796497576"
      ]
     },
     "execution_count": 70,
     "metadata": {},
     "output_type": "execute_result"
    }
   ],
   "source": [
    "startTimePre = startTimePre.drop_duplicates(subset='username',keep='first')\n",
    "print(len(startTimePre[\"username\"].unique()),\" usuarios\")\n",
    "print(len(startTimePre),\" filas\")\n",
    "startTimePre.columns = [\"username\",\"start\"]\n",
    "startTimePre.head()"
   ]
  },
  {
   "cell_type": "markdown",
   "metadata": {},
   "source": [
    "Obtener tabla con tiempos iniciales en la etapa de búsqueda y selección"
   ]
  },
  {
   "cell_type": "code",
   "execution_count": 64,
   "metadata": {},
   "outputs": [
    {
     "name": "stdout",
     "output_type": "stream",
     "text": [
      "512  usuarios\n",
      "524  filas\n"
     ]
    }
   ],
   "source": [
    "finishTimePre = visitedLinksPre.loc[(visitedLinksPre[\"state\"]==\"PageEnter\") & \n",
    "                                    (visitedLinksPre[\"url\"]==\"/collection\"),[\"username\",\"serverTimestamp\"]]\n",
    "print(len(finishTimePre[\"username\"].unique()),\" usuarios\")\n",
    "print(len(finishTimePre),\" filas\")"
   ]
  },
  {
   "cell_type": "markdown",
   "metadata": {},
   "source": [
    "Se observa el mismo problema que la tabla anterior, por lo que se eliminan duplicados conservando el último elemento"
   ]
  },
  {
   "cell_type": "code",
   "execution_count": 71,
   "metadata": {},
   "outputs": [
    {
     "name": "stdout",
     "output_type": "stream",
     "text": [
      "512  usuarios\n",
      "512  filas\n"
     ]
    },
    {
     "data": {
      "text/html": [
       "<div>\n",
       "<style scoped>\n",
       "    .dataframe tbody tr th:only-of-type {\n",
       "        vertical-align: middle;\n",
       "    }\n",
       "\n",
       "    .dataframe tbody tr th {\n",
       "        vertical-align: top;\n",
       "    }\n",
       "\n",
       "    .dataframe thead th {\n",
       "        text-align: right;\n",
       "    }\n",
       "</style>\n",
       "<table border=\"1\" class=\"dataframe\">\n",
       "  <thead>\n",
       "    <tr style=\"text-align: right;\">\n",
       "      <th></th>\n",
       "      <th>username</th>\n",
       "      <th>finish</th>\n",
       "    </tr>\n",
       "  </thead>\n",
       "  <tbody>\n",
       "    <tr>\n",
       "      <th>51</th>\n",
       "      <td>101BSCE120003</td>\n",
       "      <td>1488796554066</td>\n",
       "    </tr>\n",
       "    <tr>\n",
       "      <th>156</th>\n",
       "      <td>101BSCE120004</td>\n",
       "      <td>1488796840407</td>\n",
       "    </tr>\n",
       "    <tr>\n",
       "      <th>247</th>\n",
       "      <td>101BSCE120008</td>\n",
       "      <td>1488796645263</td>\n",
       "    </tr>\n",
       "    <tr>\n",
       "      <th>337</th>\n",
       "      <td>101BSCE120012</td>\n",
       "      <td>1488796806432</td>\n",
       "    </tr>\n",
       "    <tr>\n",
       "      <th>415</th>\n",
       "      <td>101BSCE120014</td>\n",
       "      <td>1488797036983</td>\n",
       "    </tr>\n",
       "  </tbody>\n",
       "</table>\n",
       "</div>"
      ],
      "text/plain": [
       "          username         finish\n",
       "51   101BSCE120003  1488796554066\n",
       "156  101BSCE120004  1488796840407\n",
       "247  101BSCE120008  1488796645263\n",
       "337  101BSCE120012  1488796806432\n",
       "415  101BSCE120014  1488797036983"
      ]
     },
     "execution_count": 71,
     "metadata": {},
     "output_type": "execute_result"
    }
   ],
   "source": [
    "finishTimePre = finishTimePre.drop_duplicates(subset='username',keep='last')\n",
    "print(len(finishTimePre[\"username\"].unique()),\" usuarios\")\n",
    "print(len(finishTimePre),\" filas\")\n",
    "finishTimePre.columns = [\"username\",\"finish\"]\n",
    "finishTimePre.head()"
   ]
  },
  {
   "cell_type": "markdown",
   "metadata": {},
   "source": [
    "Construir una tabla donde por cada usuario se tenga el tiempo donde inició y finalizó la tarea de búsqueda y selección (join)"
   ]
  },
  {
   "cell_type": "code",
   "execution_count": 75,
   "metadata": {},
   "outputs": [
    {
     "name": "stdout",
     "output_type": "stream",
     "text": [
      "512\n"
     ]
    },
    {
     "data": {
      "text/html": [
       "<div>\n",
       "<style scoped>\n",
       "    .dataframe tbody tr th:only-of-type {\n",
       "        vertical-align: middle;\n",
       "    }\n",
       "\n",
       "    .dataframe tbody tr th {\n",
       "        vertical-align: top;\n",
       "    }\n",
       "\n",
       "    .dataframe thead th {\n",
       "        text-align: right;\n",
       "    }\n",
       "</style>\n",
       "<table border=\"1\" class=\"dataframe\">\n",
       "  <thead>\n",
       "    <tr style=\"text-align: right;\">\n",
       "      <th></th>\n",
       "      <th>username</th>\n",
       "      <th>start</th>\n",
       "      <th>finish</th>\n",
       "    </tr>\n",
       "  </thead>\n",
       "  <tbody>\n",
       "    <tr>\n",
       "      <th>0</th>\n",
       "      <td>101BSCE120003</td>\n",
       "      <td>1488795953781</td>\n",
       "      <td>1488796554066</td>\n",
       "    </tr>\n",
       "    <tr>\n",
       "      <th>1</th>\n",
       "      <td>101BSCE120004</td>\n",
       "      <td>1488795974227</td>\n",
       "      <td>1488796840407</td>\n",
       "    </tr>\n",
       "    <tr>\n",
       "      <th>2</th>\n",
       "      <td>101BSCE120008</td>\n",
       "      <td>1488795937180</td>\n",
       "      <td>1488796645263</td>\n",
       "    </tr>\n",
       "    <tr>\n",
       "      <th>3</th>\n",
       "      <td>101BSCE120012</td>\n",
       "      <td>1488796022746</td>\n",
       "      <td>1488796806432</td>\n",
       "    </tr>\n",
       "    <tr>\n",
       "      <th>4</th>\n",
       "      <td>101BSCE120014</td>\n",
       "      <td>1488796497576</td>\n",
       "      <td>1488797036983</td>\n",
       "    </tr>\n",
       "  </tbody>\n",
       "</table>\n",
       "</div>"
      ],
      "text/plain": [
       "        username          start         finish\n",
       "0  101BSCE120003  1488795953781  1488796554066\n",
       "1  101BSCE120004  1488795974227  1488796840407\n",
       "2  101BSCE120008  1488795937180  1488796645263\n",
       "3  101BSCE120012  1488796022746  1488796806432\n",
       "4  101BSCE120014  1488796497576  1488797036983"
      ]
     },
     "execution_count": 75,
     "metadata": {},
     "output_type": "execute_result"
    }
   ],
   "source": [
    "timeTablePre = pd.merge(startTimePre, finishTimePre, on='username', how='inner')\n",
    "timeTablePre.head()"
   ]
  },
  {
   "cell_type": "markdown",
   "metadata": {},
   "source": [
    "### 1.1.2.- Obtener eventos en etapa de búsqueda y selección\n",
    "<a id=\"searchAndSelect\"></a>"
   ]
  },
  {
   "cell_type": "markdown",
   "metadata": {},
   "source": [
    "Obtener tabla de usuarios, eventos (consultas, ingreso y salida de páginas, bookmarks, entre otros), scrolls, clicks  y entradas de texto"
   ]
  },
  {
   "cell_type": "code",
   "execution_count": 94,
   "metadata": {},
   "outputs": [
    {
     "name": "stdout",
     "output_type": "stream",
     "text": [
      "512  usuarios\n"
     ]
    },
    {
     "data": {
      "text/html": [
       "<div>\n",
       "<style scoped>\n",
       "    .dataframe tbody tr th:only-of-type {\n",
       "        vertical-align: middle;\n",
       "    }\n",
       "\n",
       "    .dataframe tbody tr th {\n",
       "        vertical-align: top;\n",
       "    }\n",
       "\n",
       "    .dataframe thead th {\n",
       "        text-align: right;\n",
       "    }\n",
       "</style>\n",
       "<table border=\"1\" class=\"dataframe\">\n",
       "  <thead>\n",
       "    <tr style=\"text-align: right;\">\n",
       "      <th></th>\n",
       "      <th>child.ID</th>\n",
       "      <th>userName</th>\n",
       "      <th>T.Inicial</th>\n",
       "      <th>T.Final</th>\n",
       "      <th>Total.Time</th>\n",
       "      <th>Stay.Pages</th>\n",
       "      <th>Stay.Pag.Relv</th>\n",
       "      <th>Stay.Pag.NotRelv</th>\n",
       "      <th>Total.Cover</th>\n",
       "      <th>Doc.Relv.vist</th>\n",
       "      <th>...</th>\n",
       "      <th>Recall</th>\n",
       "      <th>F1</th>\n",
       "      <th>Score</th>\n",
       "      <th>Pos</th>\n",
       "      <th>Cal</th>\n",
       "      <th>Ask1</th>\n",
       "      <th>Ask2</th>\n",
       "      <th>Sex</th>\n",
       "      <th>Group</th>\n",
       "      <th>class</th>\n",
       "    </tr>\n",
       "  </thead>\n",
       "  <tbody>\n",
       "    <tr>\n",
       "      <th>0</th>\n",
       "      <td>1109</td>\n",
       "      <td>101BSCE120003</td>\n",
       "      <td>1488795953616</td>\n",
       "      <td>1488796447580</td>\n",
       "      <td>8,233</td>\n",
       "      <td>3,112</td>\n",
       "      <td>1,943</td>\n",
       "      <td>1,169</td>\n",
       "      <td>4</td>\n",
       "      <td>2</td>\n",
       "      <td>...</td>\n",
       "      <td>0,667</td>\n",
       "      <td>0,572</td>\n",
       "      <td>3,333</td>\n",
       "      <td>-2</td>\n",
       "      <td>1</td>\n",
       "      <td>2</td>\n",
       "      <td>3</td>\n",
       "      <td>2</td>\n",
       "      <td>0</td>\n",
       "      <td>A</td>\n",
       "    </tr>\n",
       "    <tr>\n",
       "      <th>1</th>\n",
       "      <td>1121</td>\n",
       "      <td>101BSCE120004</td>\n",
       "      <td>1488795974073</td>\n",
       "      <td>1488796824341</td>\n",
       "      <td>14,171</td>\n",
       "      <td>5,837</td>\n",
       "      <td>0,544</td>\n",
       "      <td>5,293</td>\n",
       "      <td>9</td>\n",
       "      <td>2</td>\n",
       "      <td>...</td>\n",
       "      <td>0,667</td>\n",
       "      <td>0,333</td>\n",
       "      <td>1,667</td>\n",
       "      <td>1</td>\n",
       "      <td>3</td>\n",
       "      <td>3</td>\n",
       "      <td>2</td>\n",
       "      <td>2</td>\n",
       "      <td>0</td>\n",
       "      <td>R</td>\n",
       "    </tr>\n",
       "    <tr>\n",
       "      <th>2</th>\n",
       "      <td>1118</td>\n",
       "      <td>101BSCE120008</td>\n",
       "      <td>1488795936998</td>\n",
       "      <td>1488796634284</td>\n",
       "      <td>11,621</td>\n",
       "      <td>5,521</td>\n",
       "      <td>2,739</td>\n",
       "      <td>2,782</td>\n",
       "      <td>5</td>\n",
       "      <td>3</td>\n",
       "      <td>...</td>\n",
       "      <td>1</td>\n",
       "      <td>0,75</td>\n",
       "      <td>5</td>\n",
       "      <td>-3</td>\n",
       "      <td>3</td>\n",
       "      <td>4</td>\n",
       "      <td>2</td>\n",
       "      <td>2</td>\n",
       "      <td>0</td>\n",
       "      <td>A</td>\n",
       "    </tr>\n",
       "    <tr>\n",
       "      <th>3</th>\n",
       "      <td>1112</td>\n",
       "      <td>101BSCE120012</td>\n",
       "      <td>1488796022585</td>\n",
       "      <td>1488796762579</td>\n",
       "      <td>12,333</td>\n",
       "      <td>5,655</td>\n",
       "      <td>0,947</td>\n",
       "      <td>4,708</td>\n",
       "      <td>9</td>\n",
       "      <td>2</td>\n",
       "      <td>...</td>\n",
       "      <td>0,667</td>\n",
       "      <td>0,333</td>\n",
       "      <td>1,429</td>\n",
       "      <td>-1</td>\n",
       "      <td>0</td>\n",
       "      <td>4</td>\n",
       "      <td>3</td>\n",
       "      <td>2</td>\n",
       "      <td>0</td>\n",
       "      <td>R</td>\n",
       "    </tr>\n",
       "    <tr>\n",
       "      <th>4</th>\n",
       "      <td>1106</td>\n",
       "      <td>101BSCE120014</td>\n",
       "      <td>1488796497561</td>\n",
       "      <td>1488796914443</td>\n",
       "      <td>6,948</td>\n",
       "      <td>2,051</td>\n",
       "      <td>0,587</td>\n",
       "      <td>1,464</td>\n",
       "      <td>6</td>\n",
       "      <td>3</td>\n",
       "      <td>...</td>\n",
       "      <td>1</td>\n",
       "      <td>0,667</td>\n",
       "      <td>3</td>\n",
       "      <td>2</td>\n",
       "      <td>2</td>\n",
       "      <td>3</td>\n",
       "      <td>3</td>\n",
       "      <td>1</td>\n",
       "      <td>0</td>\n",
       "      <td>R</td>\n",
       "    </tr>\n",
       "  </tbody>\n",
       "</table>\n",
       "<p>5 rows × 41 columns</p>\n",
       "</div>"
      ],
      "text/plain": [
       "   child.ID       userName      T.Inicial        T.Final Total.Time  \\\n",
       "0      1109  101BSCE120003  1488795953616  1488796447580      8,233   \n",
       "1      1121  101BSCE120004  1488795974073  1488796824341     14,171   \n",
       "2      1118  101BSCE120008  1488795936998  1488796634284     11,621   \n",
       "3      1112  101BSCE120012  1488796022585  1488796762579     12,333   \n",
       "4      1106  101BSCE120014  1488796497561  1488796914443      6,948   \n",
       "\n",
       "  Stay.Pages Stay.Pag.Relv Stay.Pag.NotRelv  Total.Cover  Doc.Relv.vist  \\\n",
       "0      3,112         1,943            1,169            4              2   \n",
       "1      5,837         0,544            5,293            9              2   \n",
       "2      5,521         2,739            2,782            5              3   \n",
       "3      5,655         0,947            4,708            9              2   \n",
       "4      2,051         0,587            1,464            6              3   \n",
       "\n",
       "   ...    Recall     F1  Score  Pos Cal  Ask1  Ask2  Sex  Group  class  \n",
       "0  ...     0,667  0,572  3,333   -2   1     2     3    2      0      A  \n",
       "1  ...     0,667  0,333  1,667    1   3     3     2    2      0      R  \n",
       "2  ...         1   0,75      5   -3   3     4     2    2      0      A  \n",
       "3  ...     0,667  0,333  1,429   -1   0     4     3    2      0      R  \n",
       "4  ...         1  0,667      3    2   2     3     3    1      0      R  \n",
       "\n",
       "[5 rows x 41 columns]"
      ]
     },
     "execution_count": 94,
     "metadata": {},
     "output_type": "execute_result"
    }
   ],
   "source": [
    "usersPre = pd.read_csv('Tablas generadas/Pre-Test/Users.PreTest.csv')\n",
    "print(len(usersPre), \" usuarios\")\n",
    "usersPre.head()"
   ]
  },
  {
   "cell_type": "code",
   "execution_count": 116,
   "metadata": {},
   "outputs": [
    {
     "name": "stdout",
     "output_type": "stream",
     "text": [
      "131474  eventos\n"
     ]
    },
    {
     "data": {
      "text/html": [
       "<div>\n",
       "<style scoped>\n",
       "    .dataframe tbody tr th:only-of-type {\n",
       "        vertical-align: middle;\n",
       "    }\n",
       "\n",
       "    .dataframe tbody tr th {\n",
       "        vertical-align: top;\n",
       "    }\n",
       "\n",
       "    .dataframe thead th {\n",
       "        text-align: right;\n",
       "    }\n",
       "</style>\n",
       "<table border=\"1\" class=\"dataframe\">\n",
       "  <thead>\n",
       "    <tr style=\"text-align: right;\">\n",
       "      <th></th>\n",
       "      <th>username</th>\n",
       "      <th>actionId</th>\n",
       "      <th>localTimestamp</th>\n",
       "      <th>serverTimestamp</th>\n",
       "      <th>action</th>\n",
       "    </tr>\n",
       "  </thead>\n",
       "  <tbody>\n",
       "    <tr>\n",
       "      <th>0</th>\n",
       "      <td>101BSCE120003</td>\n",
       "      <td>NaN</td>\n",
       "      <td>1488795764636</td>\n",
       "      <td>1488795764636</td>\n",
       "      <td>StatusOnline</td>\n",
       "    </tr>\n",
       "    <tr>\n",
       "      <th>1</th>\n",
       "      <td>101BSCE120003</td>\n",
       "      <td>ixZRM67XDCcPHCdgm</td>\n",
       "      <td>1488795764777</td>\n",
       "      <td>1488795764949</td>\n",
       "      <td>Login</td>\n",
       "    </tr>\n",
       "    <tr>\n",
       "      <th>2</th>\n",
       "      <td>101BSCE120003</td>\n",
       "      <td>XnghJcJWpt9kawj6D</td>\n",
       "      <td>1488795765263</td>\n",
       "      <td>1488795765417</td>\n",
       "      <td>PageExit</td>\n",
       "    </tr>\n",
       "    <tr>\n",
       "      <th>3</th>\n",
       "      <td>101BSCE120003</td>\n",
       "      <td>sikmeettZJj8XEhTp</td>\n",
       "      <td>1488795765264</td>\n",
       "      <td>1488795765584</td>\n",
       "      <td>PageEnter</td>\n",
       "    </tr>\n",
       "    <tr>\n",
       "      <th>4</th>\n",
       "      <td>101BSCE120003</td>\n",
       "      <td>NaN</td>\n",
       "      <td>1488795765603</td>\n",
       "      <td>1488795765603</td>\n",
       "      <td>StatusOnline</td>\n",
       "    </tr>\n",
       "  </tbody>\n",
       "</table>\n",
       "</div>"
      ],
      "text/plain": [
       "        username           actionId  localTimestamp  serverTimestamp  \\\n",
       "0  101BSCE120003                NaN   1488795764636    1488795764636   \n",
       "1  101BSCE120003  ixZRM67XDCcPHCdgm   1488795764777    1488795764949   \n",
       "2  101BSCE120003  XnghJcJWpt9kawj6D   1488795765263    1488795765417   \n",
       "3  101BSCE120003  sikmeettZJj8XEhTp   1488795765264    1488795765584   \n",
       "4  101BSCE120003                NaN   1488795765603    1488795765603   \n",
       "\n",
       "         action  \n",
       "0  StatusOnline  \n",
       "1         Login  \n",
       "2      PageExit  \n",
       "3     PageEnter  \n",
       "4  StatusOnline  "
      ]
     },
     "execution_count": 116,
     "metadata": {},
     "output_type": "execute_result"
    }
   ],
   "source": [
    "eventlogsPre = pd.read_csv('Tablas generadas/Pre-test/EventLogs.PreTest.csv')\n",
    "eventlogsPre = eventlogsPre[[\"username\",\"actionId\",\"clientTimestamp\",\"serverTimestamp\",\"action\"]]\n",
    "eventlogsPre.columns = [\"username\",\"actionId\",\"localTimestamp\",\"serverTimestamp\",\"action\"]\n",
    "print(len(eventlogsPre),\" eventos\")\n",
    "eventlogsPre.head()"
   ]
  },
  {
   "cell_type": "code",
   "execution_count": 110,
   "metadata": {},
   "outputs": [
    {
     "name": "stdout",
     "output_type": "stream",
     "text": [
      "11573  clicks\n"
     ]
    },
    {
     "data": {
      "text/html": [
       "<div>\n",
       "<style scoped>\n",
       "    .dataframe tbody tr th:only-of-type {\n",
       "        vertical-align: middle;\n",
       "    }\n",
       "\n",
       "    .dataframe tbody tr th {\n",
       "        vertical-align: top;\n",
       "    }\n",
       "\n",
       "    .dataframe thead th {\n",
       "        text-align: right;\n",
       "    }\n",
       "</style>\n",
       "<table border=\"1\" class=\"dataframe\">\n",
       "  <thead>\n",
       "    <tr style=\"text-align: right;\">\n",
       "      <th></th>\n",
       "      <th>username</th>\n",
       "      <th>actionId</th>\n",
       "      <th>localTimestamp</th>\n",
       "      <th>serverTimestamp</th>\n",
       "      <th>action</th>\n",
       "    </tr>\n",
       "  </thead>\n",
       "  <tbody>\n",
       "    <tr>\n",
       "      <th>0</th>\n",
       "      <td>101BSCE120003</td>\n",
       "      <td>ksPnwtEMzNFyjDoPb</td>\n",
       "      <td>1488796295459</td>\n",
       "      <td>1488796295703</td>\n",
       "      <td>Click</td>\n",
       "    </tr>\n",
       "    <tr>\n",
       "      <th>1</th>\n",
       "      <td>101BSCE120003</td>\n",
       "      <td>WwR8e66RKxWB8ab7e</td>\n",
       "      <td>1488796296027</td>\n",
       "      <td>1488796296249</td>\n",
       "      <td>Click</td>\n",
       "    </tr>\n",
       "    <tr>\n",
       "      <th>2</th>\n",
       "      <td>101BSCE120003</td>\n",
       "      <td>srCWodk9K6YsrxTML</td>\n",
       "      <td>1488796296403</td>\n",
       "      <td>1488796296650</td>\n",
       "      <td>Click</td>\n",
       "    </tr>\n",
       "    <tr>\n",
       "      <th>3</th>\n",
       "      <td>101BSCE120003</td>\n",
       "      <td>8TsGqXjMRxCDZ47wQ</td>\n",
       "      <td>1488796298115</td>\n",
       "      <td>1488796298422</td>\n",
       "      <td>Click</td>\n",
       "    </tr>\n",
       "    <tr>\n",
       "      <th>4</th>\n",
       "      <td>101BSCE120003</td>\n",
       "      <td>js36dPcccXmZH4fp7</td>\n",
       "      <td>1488796355318</td>\n",
       "      <td>1488796355445</td>\n",
       "      <td>Click</td>\n",
       "    </tr>\n",
       "  </tbody>\n",
       "</table>\n",
       "</div>"
      ],
      "text/plain": [
       "        username           actionId  localTimestamp  serverTimestamp action\n",
       "0  101BSCE120003  ksPnwtEMzNFyjDoPb   1488796295459    1488796295703  Click\n",
       "1  101BSCE120003  WwR8e66RKxWB8ab7e   1488796296027    1488796296249  Click\n",
       "2  101BSCE120003  srCWodk9K6YsrxTML   1488796296403    1488796296650  Click\n",
       "3  101BSCE120003  8TsGqXjMRxCDZ47wQ   1488796298115    1488796298422  Click\n",
       "4  101BSCE120003  js36dPcccXmZH4fp7   1488796355318    1488796355445  Click"
      ]
     },
     "execution_count": 110,
     "metadata": {},
     "output_type": "execute_result"
    }
   ],
   "source": [
    "mouseClicksPre = pd.read_csv(\"Tablas generadas/Pre-test/MouseClicks.PreTest.csv\")\n",
    "mouseClicksPre = mouseClicksPre[[\"username\",\"X_id\",\"localTimestamp\",\"serverTimestamp\"]]\n",
    "actions = np.repeat('Click',len(mouseClicksPre))\n",
    "mouseClicksPre['action'] = actions\n",
    "print(len(mouseClicksPre),\" clicks\")\n",
    "mouseClicksPre.columns = [\"username\",\"actionId\",\"localTimestamp\",\"serverTimestamp\",\"action\"]\n",
    "mouseClicksPre.head()"
   ]
  },
  {
   "cell_type": "code",
   "execution_count": 111,
   "metadata": {},
   "outputs": [
    {
     "name": "stdout",
     "output_type": "stream",
     "text": [
      "78080 scrolls\n"
     ]
    },
    {
     "data": {
      "text/html": [
       "<div>\n",
       "<style scoped>\n",
       "    .dataframe tbody tr th:only-of-type {\n",
       "        vertical-align: middle;\n",
       "    }\n",
       "\n",
       "    .dataframe tbody tr th {\n",
       "        vertical-align: top;\n",
       "    }\n",
       "\n",
       "    .dataframe thead th {\n",
       "        text-align: right;\n",
       "    }\n",
       "</style>\n",
       "<table border=\"1\" class=\"dataframe\">\n",
       "  <thead>\n",
       "    <tr style=\"text-align: right;\">\n",
       "      <th></th>\n",
       "      <th>username</th>\n",
       "      <th>actionId</th>\n",
       "      <th>localTimestamp</th>\n",
       "      <th>serverTimestamp</th>\n",
       "      <th>action</th>\n",
       "    </tr>\n",
       "  </thead>\n",
       "  <tbody>\n",
       "    <tr>\n",
       "      <th>0</th>\n",
       "      <td>101BSCE120003</td>\n",
       "      <td>8hMHWgfKp3XAifx7m</td>\n",
       "      <td>1488796059472</td>\n",
       "      <td>1488796059765</td>\n",
       "      <td>Scroll</td>\n",
       "    </tr>\n",
       "    <tr>\n",
       "      <th>1</th>\n",
       "      <td>101BSCE120003</td>\n",
       "      <td>GTmc6XXe4JHkvyM3S</td>\n",
       "      <td>1488796064039</td>\n",
       "      <td>1488796064204</td>\n",
       "      <td>Scroll</td>\n",
       "    </tr>\n",
       "    <tr>\n",
       "      <th>2</th>\n",
       "      <td>101BSCE120003</td>\n",
       "      <td>s6uWaQxpTjzFMFzGj</td>\n",
       "      <td>1488796065388</td>\n",
       "      <td>1488796065551</td>\n",
       "      <td>Scroll</td>\n",
       "    </tr>\n",
       "    <tr>\n",
       "      <th>3</th>\n",
       "      <td>101BSCE120003</td>\n",
       "      <td>Saw37kgjSe3XD6sBs</td>\n",
       "      <td>1488796104153</td>\n",
       "      <td>1488796104456</td>\n",
       "      <td>Scroll</td>\n",
       "    </tr>\n",
       "    <tr>\n",
       "      <th>4</th>\n",
       "      <td>101BSCE120003</td>\n",
       "      <td>NCeRGGvzrXayjjd6G</td>\n",
       "      <td>1488796192735</td>\n",
       "      <td>1488796192980</td>\n",
       "      <td>Scroll</td>\n",
       "    </tr>\n",
       "  </tbody>\n",
       "</table>\n",
       "</div>"
      ],
      "text/plain": [
       "        username           actionId  localTimestamp  serverTimestamp  action\n",
       "0  101BSCE120003  8hMHWgfKp3XAifx7m   1488796059472    1488796059765  Scroll\n",
       "1  101BSCE120003  GTmc6XXe4JHkvyM3S   1488796064039    1488796064204  Scroll\n",
       "2  101BSCE120003  s6uWaQxpTjzFMFzGj   1488796065388    1488796065551  Scroll\n",
       "3  101BSCE120003  Saw37kgjSe3XD6sBs   1488796104153    1488796104456  Scroll\n",
       "4  101BSCE120003  NCeRGGvzrXayjjd6G   1488796192735    1488796192980  Scroll"
      ]
     },
     "execution_count": 111,
     "metadata": {},
     "output_type": "execute_result"
    }
   ],
   "source": [
    "scrollsPre = pd.read_csv(\"Tablas generadas/Pre-Test/ScrollMoves.PreTest.csv\")\n",
    "scrollsPre = scrollsPre[[\"username\",\"X_id\",\"localTimestamp\",\"serverTimestamp\"]]\n",
    "actions = np.repeat('Scroll',len(scrollsPre))\n",
    "scrollsPre['action'] = actions\n",
    "scrollsPre.columns = [\"username\",\"actionId\",\"localTimestamp\",\"serverTimestamp\",\"action\"]\n",
    "print(len(scrollsPre), \"scrolls\")\n",
    "scrollsPre.head()"
   ]
  },
  {
   "cell_type": "markdown",
   "metadata": {},
   "source": [
    "En el caso de la entrada de texto se contabilizan cuando se presionan flechas para detectar actividad del usuario en la página."
   ]
  },
  {
   "cell_type": "code",
   "execution_count": 112,
   "metadata": {},
   "outputs": [
    {
     "name": "stdout",
     "output_type": "stream",
     "text": [
      "1135698  keystrokes\n",
      "4010  arrow press\n"
     ]
    },
    {
     "data": {
      "text/html": [
       "<div>\n",
       "<style scoped>\n",
       "    .dataframe tbody tr th:only-of-type {\n",
       "        vertical-align: middle;\n",
       "    }\n",
       "\n",
       "    .dataframe tbody tr th {\n",
       "        vertical-align: top;\n",
       "    }\n",
       "\n",
       "    .dataframe thead th {\n",
       "        text-align: right;\n",
       "    }\n",
       "</style>\n",
       "<table border=\"1\" class=\"dataframe\">\n",
       "  <thead>\n",
       "    <tr style=\"text-align: right;\">\n",
       "      <th></th>\n",
       "      <th>username</th>\n",
       "      <th>actionId</th>\n",
       "      <th>localTimestamp</th>\n",
       "      <th>serverTimestamp</th>\n",
       "      <th>action</th>\n",
       "    </tr>\n",
       "  </thead>\n",
       "  <tbody>\n",
       "    <tr>\n",
       "      <th>373</th>\n",
       "      <td>101BSCE120003</td>\n",
       "      <td>KnqPytrKdYvoWobR6</td>\n",
       "      <td>1.488797e+12</td>\n",
       "      <td>1488797082493</td>\n",
       "      <td>ArrowKey</td>\n",
       "    </tr>\n",
       "    <tr>\n",
       "      <th>34100</th>\n",
       "      <td>101BSSA110011</td>\n",
       "      <td>gLDBxT8bE4hQHJwN3</td>\n",
       "      <td>1.487848e+12</td>\n",
       "      <td>1487848109770</td>\n",
       "      <td>ArrowKey</td>\n",
       "    </tr>\n",
       "    <tr>\n",
       "      <th>36089</th>\n",
       "      <td>101BSSA110011</td>\n",
       "      <td>gLDBxT8bE4hQHJwN3</td>\n",
       "      <td>1.487849e+12</td>\n",
       "      <td>1487849006600</td>\n",
       "      <td>ArrowKey</td>\n",
       "    </tr>\n",
       "    <tr>\n",
       "      <th>57581</th>\n",
       "      <td>102BSCE120003</td>\n",
       "      <td>YEtPcxMzxZWganuJf</td>\n",
       "      <td>1.487588e+12</td>\n",
       "      <td>1487587807180</td>\n",
       "      <td>ArrowKey</td>\n",
       "    </tr>\n",
       "    <tr>\n",
       "      <th>78087</th>\n",
       "      <td>102BSCE120017</td>\n",
       "      <td>LqLxDjphjYvhu9pPA</td>\n",
       "      <td>1.487588e+12</td>\n",
       "      <td>1487588019105</td>\n",
       "      <td>ArrowKey</td>\n",
       "    </tr>\n",
       "  </tbody>\n",
       "</table>\n",
       "</div>"
      ],
      "text/plain": [
       "            username           actionId  localTimestamp  serverTimestamp  \\\n",
       "373    101BSCE120003  KnqPytrKdYvoWobR6    1.488797e+12    1488797082493   \n",
       "34100  101BSSA110011  gLDBxT8bE4hQHJwN3    1.487848e+12    1487848109770   \n",
       "36089  101BSSA110011  gLDBxT8bE4hQHJwN3    1.487849e+12    1487849006600   \n",
       "57581  102BSCE120003  YEtPcxMzxZWganuJf    1.487588e+12    1487587807180   \n",
       "78087  102BSCE120017  LqLxDjphjYvhu9pPA    1.487588e+12    1487588019105   \n",
       "\n",
       "         action  \n",
       "373    ArrowKey  \n",
       "34100  ArrowKey  \n",
       "36089  ArrowKey  \n",
       "57581  ArrowKey  \n",
       "78087  ArrowKey  "
      ]
     },
     "execution_count": 112,
     "metadata": {},
     "output_type": "execute_result"
    }
   ],
   "source": [
    "keystrokesPre = pd.read_csv(\"Tablas generadas/Pre-test/Keystrokes.PreTest.csv\")\n",
    "print(len(keystrokesPre), \" keystrokes\")\n",
    "arrowPressPre = keystrokesPre[(keystrokesPre[\"keyCode\"] == 38) | (keystrokesPre[\"keyCode\"] == 40)]\n",
    "arrowPressPre = arrowPressPre[[\"username\",\"userId\",\"localTimestamp\",\"serverTimestamp\"]]\n",
    "actions = np.repeat('ArrowKey',len(arrowPressPre))\n",
    "arrowPressPre['action'] = actions\n",
    "arrowPressPre.columns = [\"username\",\"actionId\",\"localTimestamp\",\"serverTimestamp\",\"action\"]\n",
    "print(len(arrowPressPre),\" arrow press\")\n",
    "arrowPressPre.head()"
   ]
  },
  {
   "cell_type": "markdown",
   "metadata": {},
   "source": [
    "Unir elementos en una tabla"
   ]
  },
  {
   "cell_type": "code",
   "execution_count": 126,
   "metadata": {},
   "outputs": [],
   "source": [
    "actionsInSearchTask = pd.concat([eventlogsPre,mouseClicksPre,scrollsPre,arrowPressPre])"
   ]
  },
  {
   "cell_type": "markdown",
   "metadata": {},
   "source": [
    "Obtener conjunto de elementos que ocurren en la etapa de búsqueda y selección"
   ]
  },
  {
   "cell_type": "code",
   "execution_count": 161,
   "metadata": {},
   "outputs": [],
   "source": [
    "def getEventsInSearchTask (users,events,timeTable):\n",
    "    columns = ['username','actionId','localTimestamp','serverTimestamp','action']\n",
    "    acumulator = pd.DataFrame(columns=columns)\n",
    "    for i in range(len(users[\"userName\"])):\n",
    "        actionsPerUser = events[\n",
    "            (events['serverTimestamp'] > timeTable['start'][i]) &\n",
    "            (events['serverTimestamp'] < timeTable['finish'][i]) &\n",
    "            (events['username'] == users['userName'][i])\n",
    "        ]\n",
    "        acumulator = pd.concat([acumulator,actionsPerUser])\n",
    "    return acumulator"
   ]
  },
  {
   "cell_type": "code",
   "execution_count": 168,
   "metadata": {},
   "outputs": [
    {
     "data": {
      "text/html": [
       "<div>\n",
       "<style scoped>\n",
       "    .dataframe tbody tr th:only-of-type {\n",
       "        vertical-align: middle;\n",
       "    }\n",
       "\n",
       "    .dataframe tbody tr th {\n",
       "        vertical-align: top;\n",
       "    }\n",
       "\n",
       "    .dataframe thead th {\n",
       "        text-align: right;\n",
       "    }\n",
       "</style>\n",
       "<table border=\"1\" class=\"dataframe\">\n",
       "  <thead>\n",
       "    <tr style=\"text-align: right;\">\n",
       "      <th></th>\n",
       "      <th>username</th>\n",
       "      <th>actionId</th>\n",
       "      <th>localTimestamp</th>\n",
       "      <th>serverTimestamp</th>\n",
       "      <th>action</th>\n",
       "    </tr>\n",
       "  </thead>\n",
       "  <tbody>\n",
       "    <tr>\n",
       "      <th>46</th>\n",
       "      <td>101BSCE120003</td>\n",
       "      <td>8GExxyQeMScDeQgbB</td>\n",
       "      <td>1488795953616</td>\n",
       "      <td>1488795953964</td>\n",
       "      <td>PageEnter</td>\n",
       "    </tr>\n",
       "    <tr>\n",
       "      <th>47</th>\n",
       "      <td>101BSCE120003</td>\n",
       "      <td>BAmeJRb6f9Lrzuuoo</td>\n",
       "      <td>1488795990019</td>\n",
       "      <td>1488795990319</td>\n",
       "      <td>Query</td>\n",
       "    </tr>\n",
       "    <tr>\n",
       "      <th>48</th>\n",
       "      <td>101BSCE120003</td>\n",
       "      <td>NaN</td>\n",
       "      <td>1488796000582</td>\n",
       "      <td>1488796000582</td>\n",
       "      <td>StatusAway</td>\n",
       "    </tr>\n",
       "    <tr>\n",
       "      <th>49</th>\n",
       "      <td>101BSCE120003</td>\n",
       "      <td>rGaDb5iAEwqngG7Li</td>\n",
       "      <td>1488796005341</td>\n",
       "      <td>1488796005639</td>\n",
       "      <td>Query</td>\n",
       "    </tr>\n",
       "    <tr>\n",
       "      <th>50</th>\n",
       "      <td>101BSCE120003</td>\n",
       "      <td>NaN</td>\n",
       "      <td>1488796006288</td>\n",
       "      <td>1488796006289</td>\n",
       "      <td>StatusAway</td>\n",
       "    </tr>\n",
       "  </tbody>\n",
       "</table>\n",
       "</div>"
      ],
      "text/plain": [
       "         username           actionId localTimestamp serverTimestamp  \\\n",
       "46  101BSCE120003  8GExxyQeMScDeQgbB  1488795953616   1488795953964   \n",
       "47  101BSCE120003  BAmeJRb6f9Lrzuuoo  1488795990019   1488795990319   \n",
       "48  101BSCE120003                NaN  1488796000582   1488796000582   \n",
       "49  101BSCE120003  rGaDb5iAEwqngG7Li  1488796005341   1488796005639   \n",
       "50  101BSCE120003                NaN  1488796006288   1488796006289   \n",
       "\n",
       "        action  \n",
       "46   PageEnter  \n",
       "47       Query  \n",
       "48  StatusAway  \n",
       "49       Query  \n",
       "50  StatusAway  "
      ]
     },
     "execution_count": 168,
     "metadata": {},
     "output_type": "execute_result"
    }
   ],
   "source": [
    "actionsInSearchTask = getEventsInSearchTask(usersPre,eventlogsPre,timeTablePre)\n",
    "actionsInSearchTask.head()"
   ]
  },
  {
   "cell_type": "markdown",
   "metadata": {},
   "source": [
    "Aún existen algunos datos que no serán de utilidad para la investigación del comportamiento del usuario. Estos son removidos."
   ]
  },
  {
   "cell_type": "code",
   "execution_count": 171,
   "metadata": {},
   "outputs": [
    {
     "data": {
      "text/html": [
       "<div>\n",
       "<style scoped>\n",
       "    .dataframe tbody tr th:only-of-type {\n",
       "        vertical-align: middle;\n",
       "    }\n",
       "\n",
       "    .dataframe tbody tr th {\n",
       "        vertical-align: top;\n",
       "    }\n",
       "\n",
       "    .dataframe thead th {\n",
       "        text-align: right;\n",
       "    }\n",
       "</style>\n",
       "<table border=\"1\" class=\"dataframe\">\n",
       "  <thead>\n",
       "    <tr style=\"text-align: right;\">\n",
       "      <th></th>\n",
       "      <th>username</th>\n",
       "      <th>actionId</th>\n",
       "      <th>localTimestamp</th>\n",
       "      <th>serverTimestamp</th>\n",
       "      <th>action</th>\n",
       "    </tr>\n",
       "  </thead>\n",
       "  <tbody>\n",
       "    <tr>\n",
       "      <th>46</th>\n",
       "      <td>101BSCE120003</td>\n",
       "      <td>8GExxyQeMScDeQgbB</td>\n",
       "      <td>1488795953616</td>\n",
       "      <td>1488795953964</td>\n",
       "      <td>PageEnter</td>\n",
       "    </tr>\n",
       "    <tr>\n",
       "      <th>47</th>\n",
       "      <td>101BSCE120003</td>\n",
       "      <td>BAmeJRb6f9Lrzuuoo</td>\n",
       "      <td>1488795990019</td>\n",
       "      <td>1488795990319</td>\n",
       "      <td>Query</td>\n",
       "    </tr>\n",
       "    <tr>\n",
       "      <th>49</th>\n",
       "      <td>101BSCE120003</td>\n",
       "      <td>rGaDb5iAEwqngG7Li</td>\n",
       "      <td>1488796005341</td>\n",
       "      <td>1488796005639</td>\n",
       "      <td>Query</td>\n",
       "    </tr>\n",
       "    <tr>\n",
       "      <th>53</th>\n",
       "      <td>101BSCE120003</td>\n",
       "      <td>AXEv4fGMmYkmhebxu</td>\n",
       "      <td>1488796037651</td>\n",
       "      <td>1488796037940</td>\n",
       "      <td>Query</td>\n",
       "    </tr>\n",
       "    <tr>\n",
       "      <th>54</th>\n",
       "      <td>101BSCE120003</td>\n",
       "      <td>FajRFTo5JeMzJWhca</td>\n",
       "      <td>1488796047341</td>\n",
       "      <td>1488796047520</td>\n",
       "      <td>Query</td>\n",
       "    </tr>\n",
       "    <tr>\n",
       "      <th>55</th>\n",
       "      <td>101BSCE120003</td>\n",
       "      <td>NaN</td>\n",
       "      <td>1488796051784</td>\n",
       "      <td>1488796051949</td>\n",
       "      <td>SearchResultSelected</td>\n",
       "    </tr>\n",
       "    <tr>\n",
       "      <th>56</th>\n",
       "      <td>101BSCE120003</td>\n",
       "      <td>vNw9Suw42CF2hq9gN</td>\n",
       "      <td>1488796051793</td>\n",
       "      <td>1488796051953</td>\n",
       "      <td>PageExit</td>\n",
       "    </tr>\n",
       "    <tr>\n",
       "      <th>57</th>\n",
       "      <td>101BSCE120003</td>\n",
       "      <td>edkYh8cwLdzmN8nmr</td>\n",
       "      <td>1488796051795</td>\n",
       "      <td>1488796051964</td>\n",
       "      <td>PageEnter</td>\n",
       "    </tr>\n",
       "    <tr>\n",
       "      <th>60</th>\n",
       "      <td>101BSCE120003</td>\n",
       "      <td>83hA48zwoGzRJHmQj</td>\n",
       "      <td>1488796108619</td>\n",
       "      <td>1488796110289</td>\n",
       "      <td>Bookmark</td>\n",
       "    </tr>\n",
       "    <tr>\n",
       "      <th>61</th>\n",
       "      <td>101BSCE120003</td>\n",
       "      <td>NaN</td>\n",
       "      <td>1488796113250</td>\n",
       "      <td>1488796113513</td>\n",
       "      <td>BackButtonSelected</td>\n",
       "    </tr>\n",
       "  </tbody>\n",
       "</table>\n",
       "</div>"
      ],
      "text/plain": [
       "         username           actionId localTimestamp serverTimestamp  \\\n",
       "46  101BSCE120003  8GExxyQeMScDeQgbB  1488795953616   1488795953964   \n",
       "47  101BSCE120003  BAmeJRb6f9Lrzuuoo  1488795990019   1488795990319   \n",
       "49  101BSCE120003  rGaDb5iAEwqngG7Li  1488796005341   1488796005639   \n",
       "53  101BSCE120003  AXEv4fGMmYkmhebxu  1488796037651   1488796037940   \n",
       "54  101BSCE120003  FajRFTo5JeMzJWhca  1488796047341   1488796047520   \n",
       "55  101BSCE120003                NaN  1488796051784   1488796051949   \n",
       "56  101BSCE120003  vNw9Suw42CF2hq9gN  1488796051793   1488796051953   \n",
       "57  101BSCE120003  edkYh8cwLdzmN8nmr  1488796051795   1488796051964   \n",
       "60  101BSCE120003  83hA48zwoGzRJHmQj  1488796108619   1488796110289   \n",
       "61  101BSCE120003                NaN  1488796113250   1488796113513   \n",
       "\n",
       "                  action  \n",
       "46             PageEnter  \n",
       "47                 Query  \n",
       "49                 Query  \n",
       "53                 Query  \n",
       "54                 Query  \n",
       "55  SearchResultSelected  \n",
       "56              PageExit  \n",
       "57             PageEnter  \n",
       "60              Bookmark  \n",
       "61    BackButtonSelected  "
      ]
     },
     "execution_count": 171,
     "metadata": {},
     "output_type": "execute_result"
    }
   ],
   "source": [
    "actionsInSearchTask = actionsInSearchTask[\n",
    "    (actionsInSearchTask[\"action\"]!=\"StatusAway\") & \n",
    "    (actionsInSearchTask[\"action\"]!=\"StatusOnline\") &\n",
    "    (actionsInSearchTask[\"action\"]!=\"BookmarkSelected\") &\n",
    "    (actionsInSearchTask[\"action\"]!=\"StatusOffline\") &\n",
    "    (actionsInSearchTask[\"action\"]!=\"TutorialSelected\") &\n",
    "    (actionsInSearchTask[\"action\"]!=\"FormResponse\") &\n",
    "    (actionsInSearchTask[\"action\"]!=\"Login\") &\n",
    "    (actionsInSearchTask[\"action\"]!=\"SubtaskSelected\") &\n",
    "    (actionsInSearchTask[\"action\"]!=\"Logout\") &\n",
    "    (actionsInSearchTask[\"action\"]!=\"TimeoutTriggered\")\n",
    "                                         ]\n",
    "actionsInSearchTask.head(10)"
   ]
  },
  {
   "cell_type": "code",
   "execution_count": null,
   "metadata": {},
   "outputs": [],
   "source": []
  }
 ],
 "metadata": {
  "kernelspec": {
   "display_name": "virEnv",
   "language": "python",
   "name": "virenv"
  },
  "language_info": {
   "codemirror_mode": {
    "name": "ipython",
    "version": 3
   },
   "file_extension": ".py",
   "mimetype": "text/x-python",
   "name": "python",
   "nbconvert_exporter": "python",
   "pygments_lexer": "ipython3",
   "version": "3.7.0"
  }
 },
 "nbformat": 4,
 "nbformat_minor": 2
}
